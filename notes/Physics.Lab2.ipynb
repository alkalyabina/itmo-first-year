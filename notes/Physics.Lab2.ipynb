{
 "cells": [
  {
   "cell_type": "code",
   "execution_count": 1,
   "metadata": {},
   "outputs": [],
   "source": [
    "-- Optical sensor positions\n",
    "x1 = 0.15 :: Double\n",
    "x2 = 0.8 :: Double\n",
    "\n",
    "-- Tables 3.1 & 3.2\n",
    "data T3 = T3 { mass :: Double, v1 :: Double, v2 :: Double } deriving (Show)\n",
    "table3_1 = [ T3 { mass = 2.10, v1 = 0.27, v2 = 0.45 }\n",
    "           , T3 { mass = 2.95, v1 = 0.28, v2 = 0.52 } --0.52v2\n",
    "           , T3 { mass = 3.80, v1 = 0.32, v2 = 0.62 } --0.62v2\n",
    "           , T3 { mass = 4.65, v1 = 0.44, v2 = 0.91 } --0.91v2\n",
    "           , T3 { mass = 5.50, v1 = 0.48, v2 = 0.99 }\n",
    "           , T3 { mass = 6.35, v1 = 0.57, v2 = 1.08 }\n",
    "           , T3 { mass = 7.20, v1 = 0.55, v2 = 1.12 } ]\n",
    "\n",
    "table3_f = (\\(T3 m v1 v2) -> T3 m v1 (v2 + 0.1)) <$> table3_1"
   ]
  },
  {
   "cell_type": "markdown",
   "metadata": {},
   "source": [
    "$$a = \\frac{(v_2)^2 - (v_1)^2}{2(x_2 - x_1)}, T = m(g - a)$$"
   ]
  },
  {
   "cell_type": "code",
   "execution_count": 2,
   "metadata": {},
   "outputs": [],
   "source": [
    "acceleration :: Double -> Double -> Double -> Double -> Double\n",
    "acceleration v1 v2 x1 x2 = (v2^^2 - v1^^2) / (2.0 * (x2 - x1))\n",
    "\n",
    "tension :: Double -> Double -> Double\n",
    "tension m a = m * (g - a)\n",
    "  where g = 9.82"
   ]
  },
  {
   "cell_type": "code",
   "execution_count": 3,
   "metadata": {},
   "outputs": [
    {
     "data": {
      "text/html": [
       "<style>/* Styles used for the Hoogle display in the pager */\n",
       ".hoogle-doc {\n",
       "display: block;\n",
       "padding-bottom: 1.3em;\n",
       "padding-left: 0.4em;\n",
       "}\n",
       ".hoogle-code {\n",
       "display: block;\n",
       "font-family: monospace;\n",
       "white-space: pre;\n",
       "}\n",
       ".hoogle-text {\n",
       "display: block;\n",
       "}\n",
       ".hoogle-name {\n",
       "color: green;\n",
       "font-weight: bold;\n",
       "}\n",
       ".hoogle-head {\n",
       "font-weight: bold;\n",
       "}\n",
       ".hoogle-sub {\n",
       "display: block;\n",
       "margin-left: 0.4em;\n",
       "}\n",
       ".hoogle-package {\n",
       "font-weight: bold;\n",
       "font-style: italic;\n",
       "}\n",
       ".hoogle-module {\n",
       "font-weight: bold;\n",
       "}\n",
       ".hoogle-class {\n",
       "font-weight: bold;\n",
       "}\n",
       ".get-type {\n",
       "color: green;\n",
       "font-weight: bold;\n",
       "font-family: monospace;\n",
       "display: block;\n",
       "white-space: pre-wrap;\n",
       "}\n",
       ".show-type {\n",
       "color: green;\n",
       "font-weight: bold;\n",
       "font-family: monospace;\n",
       "margin-left: 1em;\n",
       "}\n",
       ".mono {\n",
       "font-family: monospace;\n",
       "display: block;\n",
       "}\n",
       ".err-msg {\n",
       "color: red;\n",
       "font-style: italic;\n",
       "font-family: monospace;\n",
       "white-space: pre;\n",
       "display: block;\n",
       "}\n",
       "#unshowable {\n",
       "color: red;\n",
       "font-weight: bold;\n",
       "}\n",
       ".err-msg.in.collapse {\n",
       "padding-top: 0.7em;\n",
       "}\n",
       ".highlight-code {\n",
       "white-space: pre;\n",
       "font-family: monospace;\n",
       "}\n",
       ".suggestion-warning { \n",
       "font-weight: bold;\n",
       "color: rgb(200, 130, 0);\n",
       "}\n",
       ".suggestion-error { \n",
       "font-weight: bold;\n",
       "color: red;\n",
       "}\n",
       ".suggestion-name {\n",
       "font-weight: bold;\n",
       "}\n",
       "</style><!DOCTYPE HTML PUBLIC \"-//W3C//DTD HTML 3.2 FINAL//EN\">\n",
       "<!--Rendered using the Haskell Html Library v0.2-->\n",
       "<HTML\n",
       "><STYLE TYPE = \"text/css\"\n",
       "  >table   { border-collapse: collapse; border: 1px solid; }\n",
       "th      { padding:0.2em; background-color: #eeeeee }\n",
       "td      { padding:0.2em; }\n",
       ".thinbottom  { border-bottom: 1px solid }\n",
       ".thickbottom { border-bottom: 3px solid }\n",
       ".thinright  { border-right: 1px solid }\n",
       ".thickright { border-right: 3px solid }\n",
       "</STYLE\n",
       "  ><TABLE\n",
       "  ><TR\n",
       "    ><TH\n",
       "      ></TH\n",
       "      ><TH CLASS = \"thinright\"\n",
       "      >$m,\\ г$</TH\n",
       "      ><TH CLASS = \"thinright\"\n",
       "      >$a,\\ м/с^2$</TH\n",
       "      ><TH\n",
       "      >$T,\\ мН$</TH\n",
       "      ></TR\n",
       "    ><TR\n",
       "    ><TH\n",
       "      >1</TH\n",
       "      ><TD CLASS = \"thinright\"\n",
       "      >2.100</TD\n",
       "      ><TD CLASS = \"thinright\"\n",
       "      >0.100</TD\n",
       "      ><TD\n",
       "      >20.413</TD\n",
       "      ></TR\n",
       "    ><TR\n",
       "    ><TH\n",
       "      >2</TH\n",
       "      ><TD CLASS = \"thinright\"\n",
       "      >2.950</TD\n",
       "      ><TD CLASS = \"thinright\"\n",
       "      >0.148</TD\n",
       "      ><TD\n",
       "      >28.533</TD\n",
       "      ></TR\n",
       "    ><TR\n",
       "    ><TH\n",
       "      >3</TH\n",
       "      ><TD CLASS = \"thinright\"\n",
       "      >3.800</TD\n",
       "      ><TD CLASS = \"thinright\"\n",
       "      >0.217</TD\n",
       "      ><TD\n",
       "      >36.492</TD\n",
       "      ></TR\n",
       "    ><TR\n",
       "    ><TH\n",
       "      >4</TH\n",
       "      ><TD CLASS = \"thinright\"\n",
       "      >4.650</TD\n",
       "      ><TD CLASS = \"thinright\"\n",
       "      >0.488</TD\n",
       "      ><TD\n",
       "      >43.393</TD\n",
       "      ></TR\n",
       "    ><TR\n",
       "    ><TH\n",
       "      >5</TH\n",
       "      ><TD CLASS = \"thinright\"\n",
       "      >5.500</TD\n",
       "      ><TD CLASS = \"thinright\"\n",
       "      >0.577</TD\n",
       "      ><TD\n",
       "      >50.838</TD\n",
       "      ></TR\n",
       "    ><TR\n",
       "    ><TH\n",
       "      >6</TH\n",
       "      ><TD CLASS = \"thinright\"\n",
       "      >6.350</TD\n",
       "      ><TD CLASS = \"thinright\"\n",
       "      >0.647</TD\n",
       "      ><TD\n",
       "      >58.247</TD\n",
       "      ></TR\n",
       "    ><TR\n",
       "    ><TH\n",
       "      >7</TH\n",
       "      ><TD CLASS = \"thinright\"\n",
       "      >7.200</TD\n",
       "      ><TD CLASS = \"thinright\"\n",
       "      >0.732</TD\n",
       "      ><TD\n",
       "      >65.432</TD\n",
       "      ></TR\n",
       "    ></TABLE\n",
       "  ></HTML\n",
       ">\n"
      ]
     },
     "metadata": {},
     "output_type": "display_data"
    }
   ],
   "source": [
    "import Text.Tabular\n",
    "import qualified Text.Tabular.Html as H\n",
    "import Text.Html (renderHtml, stringToHtml, (+++))\n",
    "import IHaskell.Display (DisplayData, html)\n",
    "import Text.Printf (printf)\n",
    "\n",
    "printTable :: Table String String String -> DisplayData\n",
    "printTable = html . renderHtml . (tableCss +++) . tableHtml\n",
    "  where\n",
    "    tableCss = H.css H.defaultCss\n",
    "    tableHtml = H.render stringToHtml stringToHtml stringToHtml\n",
    "\n",
    "showDouble = printf \"%.3f\"\n",
    "\n",
    "table6Head :: Table String String String\n",
    "table6Head = empty ^..^ colH \"$m,\\\\ г$\" ^|^  colH \"$a,\\\\ м/с^2$\" ^|^ colH \"$T,\\\\ мН$\"\n",
    "\n",
    "table6 :: [T3] -> Table String String String\n",
    "table6 = (foldl appendRow table6Head) . (zip [1..])\n",
    "  where\n",
    "      appendRow table (n, rowData) = table +.+ (row (show n) (showDouble <$> compute rowData))\n",
    "      compute (T3 mass v1 v2) = [mass, acc, tension mass acc] where acc = acceleration v1 v2 x1 x2\n",
    "\n",
    "printTable $ table6 table3_1"
   ]
  },
  {
   "cell_type": "code",
   "execution_count": 4,
   "metadata": {},
   "outputs": [],
   "source": [
    "import Data.List (minimumBy, genericLength)\n",
    "\n",
    "computedValues :: [T3] -> [(Double, Double)]\n",
    "computedValues = (go <$>)\n",
    "  where go (T3 mass v1 v2) = (acc, tension mass acc) where acc = acceleration v1 v2 x1 x2\n",
    "\n",
    "approximationCoeffs :: [T3] -> (Double, Double)\n",
    "approximationCoeffs table = (k, b)\n",
    "  where\n",
    "    (k, b, _) = minimumBy compareDist [(k, b, avgDist k b) | k <- doubleBetween 40 120, b <- doubleBetween 0 10]\n",
    "    compareDist (_, _, d1) (_, _, d2) = compare d1 d2\n",
    "    doubleBetween a b = [int + frac | int <- [a .. b], frac <- [0.0, 0.1 .. 0.9]]\n",
    "    avgDist k b = sum ds / genericLength ds\n",
    "      where\n",
    "        ds = dist <$> (computedValues table) \n",
    "        dist (x, y) = abs ((k*x + b)^^2  - y^^2)\n",
    "\n",
    "interpolateT :: (Double, Double) -> Double -> Double\n",
    "interpolateT (k, b) a = k * a + b"
   ]
  },
  {
   "cell_type": "code",
   "execution_count": 5,
   "metadata": {},
   "outputs": [
    {
     "data": {
      "image/png": "[encoded data removed]"
     },
     "metadata": {},
     "output_type": "display_data"
    }
   ],
   "source": [
    "import Graphics.Rendering.Plot\n",
    "import Numeric.LinearAlgebra (Vector, fromList)\n",
    "import IHaskell.Display (Display)\n",
    "import qualified Data.Map as Map\n",
    "import Data.Text (unpack)\n",
    "\n",
    "tablePlot :: [T3] -> (Double, Double) -> IO Display\n",
    "tablePlot table (rangeX, rangeY) = IHaskell.Display.display figure\n",
    "  where\n",
    "    approxCs = approximationCoeffs table\n",
    "    accTension = Map.fromList $ computedValues table\n",
    "    figure = do\n",
    "      setPlots 1 1\n",
    "      withPlot (1,1) $ do\n",
    "        let xs = fromList $ Map.keys accTension\n",
    "            ys = fromList $ Map.elems accTension\n",
    "            interp = fromList $ interpolateT approxCs <$> ((Map.keys accTension) ++ [0])\n",
    "        setDataset [(Point, xs, ys), (Line, xs, interp)]\n",
    "        addAxis XAxis (Side Lower) $ do\n",
    "          withAxisLabel $ setText \"acceleration (a)\"\n",
    "        addAxis YAxis (Side Lower) $ do\n",
    "          withAxisLabel $ setText \"tension (T)\"\n",
    "        setRange XAxis Lower Linear 0 rangeX\n",
    "        setRange YAxis Lower Linear 0 rangeY\n",
    "\n",
    "tablePlot table3_1 (0.8, 70.0)"
   ]
  },
  {
   "cell_type": "code",
   "execution_count": 6,
   "metadata": {},
   "outputs": [
    {
     "data": {
      "text/plain": [
       "73.33333333333333"
      ]
     },
     "metadata": {},
     "output_type": "display_data"
    },
    {
     "data": {
      "text/plain": [
       "(73.2,13.428740276160275)"
      ]
     },
     "metadata": {},
     "output_type": "display_data"
    },
    {
     "data": {
      "text/plain": [
       "(0.2,25.54)"
      ]
     },
     "metadata": {},
     "output_type": "display_data"
    },
    {
     "data": {
      "text/plain": [
       "(0.8,69.46000000000001)"
      ]
     },
     "metadata": {},
     "output_type": "display_data"
    },
    {
     "data": {
      "text/plain": [
       "(73.2,10.9)"
      ]
     },
     "metadata": {},
     "output_type": "display_data"
    },
    {
     "data": {
      "text/plain": [
       "162.29795886411227"
      ]
     },
     "metadata": {},
     "output_type": "display_data"
    }
   ],
   "source": [
    "massAndError :: [T3] -> (Double, Double) -> (Double, Double)\n",
    "massAndError table (p_a, p_b) = (mass, err)\n",
    "  where\n",
    "    mass = (b_t - a_t) / (b_a - a_a)\n",
    "    err = (mass / (b_t - a_t)) * sqrt ((2 / (7 - 2)) * sum interpDists)\n",
    "    interpDists = [ (t - interp a)^^2 | (a, t) <- computedValues table ]\n",
    "    (a_a, a_t) = (p_a, interp p_a)\n",
    "    (b_a, b_t) = (p_b, interp p_b)\n",
    "    interp = interpolateT (approximationCoeffs table)\n",
    "\n",
    "massAt :: ((Double, Double), (Double, Double)) -> Double\n",
    "massAt ((a_a, a_t), (b_a, b_t)) = mass\n",
    "  where\n",
    "    mass = (b_t - a_t) / (b_a - a_a)\n",
    "\n",
    "massAt ((0.2, 25.0), (0.8, 69.0))\n",
    "massAndError table3_1 (0.2, 0.8)\n",
    "\n",
    "interp = interpolateT (approximationCoeffs table3_1)\n",
    "(p_a, p_b) = (0.2, 0.8)\n",
    "\n",
    "(p_a, interp p_a)\n",
    "(p_b, interp p_b)\n",
    "\n",
    "approximationCoeffs table3_1\n",
    "sum [ (t - interp a)^^2 | (a, t) <- computedValues table3_1 ]"
   ]
  }
 ],
 "metadata": {
  "kernelspec": {
   "display_name": "Haskell",
   "language": "haskell",
   "name": "haskell"
  },
  "language_info": {
   "codemirror_mode": "ihaskell",
   "file_extension": ".hs",
   "name": "haskell",
   "version": "8.2.2"
  }
 },
 "nbformat": 4,
 "nbformat_minor": 2
}
