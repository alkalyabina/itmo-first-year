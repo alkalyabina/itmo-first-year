{
 "cells": [
  {
   "cell_type": "markdown",
   "metadata": {},
   "source": [
    "# Dijkstra’s algorithm\n",
    "\n",
    "Given a weighted graph, find the shortest path from the initial node (`0`) to all other nodes."
   ]
  },
  {
   "cell_type": "code",
   "execution_count": null,
   "metadata": {
    "collapsed": true
   },
   "outputs": [],
   "source": [
    "import Numeric.LinearAlgebra\n",
    "\n",
    "vertexMatrix = (12><12)\n",
    "  [ 0, 3, 5, 3, 0, 1, 2, 1, 0, 0, 3, 5\n",
    "  , 3, 0, 0, 5, 1, 4, 2, 0, 0, 0, 4, 0\n",
    "  , 5, 0, 0, 0, 0, 5, 1, 1, 3, 0, 5, 5\n",
    "  , 3, 5, 0, 0, 5, 0, 1, 0, 0, 2, 0, 0\n",
    "  , 0, 1, 0, 5, 0, 4, 0, 2, 5, 4, 0, 3\n",
    "  , 1, 4, 5, 0, 4, 0, 0, 4, 5, 0, 0, 0\n",
    "  , 2, 2, 1, 1, 0, 0, 0, 4, 0, 2, 0, 0\n",
    "  , 1, 0, 1, 0, 2, 4, 4, 0, 1, 0, 4, 4\n",
    "  , 0, 0, 3, 0, 5, 5, 0, 1, 0, 0, 5, 0\n",
    "  , 0, 0, 0, 2, 4, 0, 2, 0, 0, 0, 0, 3\n",
    "  , 3, 4, 5, 0, 0, 0, 0, 4, 5, 0, 0, 0\n",
    "  , 5, 0, 5, 0, 3, 0, 0, 4, 0, 3, 0, 0 ]\n",
    "  \n",
    "adjacent :: Int -> Int -> Bool\n",
    "adjacent current node = vertexMatrix ! node ! current /= 0.0\n",
    "\n",
    "distance :: Int -> Int -> Double\n",
    "distance current node = vertexMatrix ! current ! node"
   ]
  },
  {
   "cell_type": "markdown",
   "metadata": {},
   "source": [
    "A node is given a `Permanent` distance value if it is equal to the shortest distance to this node. Otherwise, a node is given a `Temporary` distance value."
   ]
  },
  {
   "cell_type": "code",
   "execution_count": null,
   "metadata": {
    "collapsed": true
   },
   "outputs": [],
   "source": [
    "import Data.Map.Strict (Map)\n",
    "import qualified Data.Map.Strict as Map\n",
    "\n",
    "data DistanceValue = Temporary Double | Permanent Double\n",
    "  deriving (Eq)\n",
    "  \n",
    "infinity = 1 / 0\n",
    "\n",
    "instance Show DistanceValue where\n",
    "  show (Temporary d) = if d == (1 / 0) then \"\\\\infty\" else show d\n",
    "  show (Permanent d) = show d ++ \"+\"\n",
    "\n",
    "distnum (Temporary dist) = dist\n",
    "distnum (Permanent dist) = dist"
   ]
  },
  {
   "cell_type": "markdown",
   "metadata": {},
   "source": [
    "We'll need to keep track of the shortest distance _calculated so far_. Initially, the shortest path from node `0` is going to be `Infinity` for every node but `0` (since the shortest distance from `0` to `0` is 0)."
   ]
  },
  {
   "cell_type": "code",
   "execution_count": null,
   "metadata": {
    "collapsed": true
   },
   "outputs": [],
   "source": [
    "-- (Current node, distance values)\n",
    "type State = (Int, Map Int DistanceValue)\n",
    "\n",
    "state :: State\n",
    "state = (0, Map.fromList ((0, Permanent 0.0) : [(i, Temporary infinity) | i <- [1..11]]))"
   ]
  },
  {
   "cell_type": "markdown",
   "metadata": {},
   "source": [
    "We start every iteration from updating the `Temporary` distance values of nodes adjacent to `current` to `min(distance to node, distance to current + distance from current to node)`"
   ]
  },
  {
   "cell_type": "code",
   "execution_count": null,
   "metadata": {
    "collapsed": true
   },
   "outputs": [],
   "source": [
    "updateAdjacent :: State -> State\n",
    "updateAdjacent (current, ds) = (current, Map.mapWithKey updateDist ds)\n",
    "  where\n",
    "    updateDist node (Temporary d)\n",
    "      | adjacent current node =\n",
    "          Temporary $ min d ((distnum $ ds Map.! current) + (distance current node))\n",
    "      | otherwise = Temporary d\n",
    "    updateDist _ permanent = permanent"
   ]
  },
  {
   "cell_type": "markdown",
   "metadata": {},
   "source": [
    "Then we find an adjacent node with the shortest `Temporary` distance and change it to a `Permanent` value. This node is selected as the `current` one for the next iteration."
   ]
  },
  {
   "cell_type": "code",
   "execution_count": null,
   "metadata": {
    "collapsed": true
   },
   "outputs": [],
   "source": [
    "promoteMinAdjacent :: State -> State\n",
    "promoteMinAdjacent (current, ds) = (minNode, promote minNode)\n",
    "  where\n",
    "    promote node = Map.adjust (\\(Temporary d) -> Permanent d) node ds\n",
    "    (minNode, _) = Map.foldrWithKey findMin (0, infinity) ds\n",
    "    findMin node (Temporary d) (minNode, minDist)\n",
    "      | adjacent current node && d < minDist = (node, d)\n",
    "      | otherwise = (minNode, minDist)\n",
    "    findMin _ _ acc = acc"
   ]
  },
  {
   "cell_type": "markdown",
   "metadata": {},
   "source": [
    "The iteration is terminated when either of the conditions holds true:\n",
    "1. All nodes that can be reached from node `0` have `Permanent` distance values\n",
    "2. All nodes that can be reached from the `current` node have `Permanent` distance values"
   ]
  },
  {
   "cell_type": "code",
   "execution_count": null,
   "metadata": {
    "collapsed": true
   },
   "outputs": [],
   "source": [
    "shouldTerminate :: State -> Bool\n",
    "shouldTerminate (current, ds) = noneLeft (tempReachable 0) || noneLeft (tempReachable current)\n",
    "  where\n",
    "    noneLeft pred = Map.null $ Map.filterWithKey pred ds\n",
    "    tempReachable from node (Temporary _) = adjacent from node\n",
    "    tempReachable _ _ _ = False"
   ]
  },
  {
   "cell_type": "markdown",
   "metadata": {},
   "source": [
    "Finally, we iterate over the vertex matrix, printing state after each iteration. There's an output template for this particular task that I'm going to follow:"
   ]
  },
  {
   "cell_type": "code",
   "execution_count": null,
   "metadata": {
    "collapsed": true
   },
   "outputs": [],
   "source": [
    "import IHaskell.Display (DisplayData, many, latex)\n",
    "import Data.List (intercalate, (\\\\))\n",
    "\n",
    "explainIteration :: State -> State -> [DisplayData]\n",
    "explainIteration (prevnode, prevds) (state@(current, ds))\n",
    "  | shouldTerminate state = [latex \"Все пометки постоянные.\"]\n",
    "  | otherwise = printInit ++ printAdjacent : printNewDists ++ [printPromoted]\n",
    "      where\n",
    "        printInit\n",
    "          | prevnode == 0 = [latex \"$l(x_1) = 0^+;\\\\ l(x_i) = \\\\infty$\"]\n",
    "          | otherwise = []\n",
    "        -- print promoted distance\n",
    "        printPromoted = latex $ \"Постоянную помутку получает $min[l(x_i)] = l(x_{\" ++ show permNode ++ \"}) = \" ++\n",
    "          show permDist ++ \"$, $p = \" ++ show permNode ++ \"$\"\n",
    "        [(permNode, permDist)] = permanent ds \\\\ permanent prevds\n",
    "        permanent = Map.toList . (Map.filter (\\d -> case d of\n",
    "          Permanent _ -> True\n",
    "          _ -> False))\n",
    "        -- print new distances\n",
    "        printNewDists = pure $ latex $ intercalate \", \" $ Map.foldrWithKey newDist [] prevds\n",
    "        newDist node (Temporary d) acc\n",
    "          | adjacent node prevnode = (\n",
    "              \"$l(x_{\" ++ show node ++ \"}) = min[\" ++ showDist d ++ \", \" ++ show (prevds Map.! prevnode) ++\n",
    "              show (distance prevnode node) ++ \"] = \" ++\n",
    "              show (ds Map.! node) ++ \"$\"\n",
    "              ) : acc\n",
    "          | otherwise = acc\n",
    "        newDist _ _ acc = acc\n",
    "        showDist d = if d == (1 / 0) then \"\\\\infty\" else show d\n",
    "        -- print a set of adjacent nodes\n",
    "        printAdjacent = latex $ \"Гр = $\\\\{\" ++ asSet adjacentNodes ++ \"\\\\}$ – временные пометки имеют вершины $\" ++\n",
    "          asSet tempAdjacentNodes ++ \"$, уточним их.\"\n",
    "        asSet distmap = intercalate \", \" (Map.foldrWithKey\n",
    "          (\\node _ acc -> (\"x_{\" ++ show node ++ \"}\") : acc) [] distmap)\n",
    "        adjacentNodes = Map.filterWithKey (\\node _ -> adjacent prevnode node) ds\n",
    "        tempAdjacentNodes = Map.filterWithKey(\\_ d -> case d of\n",
    "          Temporary _ -> True\n",
    "          _ -> False) adjacentNodes"
   ]
  },
  {
   "cell_type": "markdown",
   "metadata": {},
   "source": [
    "This may not be the prettiest or most efficient code, but it gets the job done. Now, we can conveniently wrap actual iteration and logging into a `Writer` monad: "
   ]
  },
  {
   "cell_type": "code",
   "execution_count": null,
   "metadata": {
    "collapsed": true
   },
   "outputs": [],
   "source": [
    "import Control.Monad.Writer\n",
    "\n",
    "singleIter :: State -> Writer [DisplayData] State  \n",
    "singleIter s = do\n",
    "    let s' = (promoteMinAdjacent . updateAdjacent) s\n",
    "    tell $ explainIteration s s'\n",
    "    return s'\n",
    "\n",
    "logIterations :: Writer [DisplayData] State  \n",
    "logIterations = go state\n",
    "  where\n",
    "    go s\n",
    "      | shouldTerminate s = return s\n",
    "      | otherwise = singleIter s >>= go\n",
    "      \n",
    "iter :: IO Display\n",
    "iter = do\n",
    "  let ((_, s), log) = runWriter logIterations\n",
    "  display $ log ++ [latex $ intercalate \", \" $ Map.foldrWithKey displayNode [] s]\n",
    "    where\n",
    "      displayNode node dist acc = (\"[0 $\\\\rightarrow$ \" ++ show node ++ \"] = \" ++ show dist) : acc\n",
    "      \n",
    "iter"
   ]
  }
 ],
 "metadata": {
  "kernelspec": {
   "display_name": "Haskell",
   "language": "haskell",
   "name": "haskell"
  },
  "language_info": {
   "codemirror_mode": "ihaskell",
   "file_extension": ".hs",
   "name": "haskell",
   "version": "8.2.2"
  }
 },
 "nbformat": 4,
 "nbformat_minor": 2
}
